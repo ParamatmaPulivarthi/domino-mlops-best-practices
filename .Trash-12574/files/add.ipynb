{
 "cells": [
  {
   "cell_type": "code",
   "execution_count": 1,
   "id": "6cb74408",
   "metadata": {},
   "outputs": [
    {
     "name": "stdout",
     "output_type": "stream",
     "text": [
      "The sum of 10 + 20 is 30\n"
     ]
    },
    {
     "data": {
      "text/plain": [
       "2"
      ]
     },
     "execution_count": 1,
     "metadata": {},
     "output_type": "execute_result"
    }
   ],
   "source": [
    "from pathlib import Path\n",
    "\n",
    "# Read inputs\n",
    "# a = Path(\"/workflow/inputs/first_value\").read_text()\n",
    "# b = Path(\"/workflow/inputs/second_value\").read_text()\n",
    "\n",
    "a=10\n",
    "b=20\n",
    "# Calculate sum\n",
    "sum = int(a) + int(b)\n",
    "print(f\"The sum of {a} + {b} is {sum}\")\n",
    "\n",
    "# Write output\n",
    "Path(\"/workflow/outputs/sum\").write_text(str(sum))\n",
    "\n",
    "\n"
   ]
  }
 ],
 "metadata": {
  "kernelspec": {
   "display_name": "Python 3 (ipykernel)",
   "language": "python",
   "name": "python3"
  },
  "language_info": {
   "codemirror_mode": {
    "name": "ipython",
    "version": 3
   },
   "file_extension": ".py",
   "mimetype": "text/x-python",
   "name": "python",
   "nbconvert_exporter": "python",
   "pygments_lexer": "ipython3",
   "version": "3.9.18"
  }
 },
 "nbformat": 4,
 "nbformat_minor": 5
}
