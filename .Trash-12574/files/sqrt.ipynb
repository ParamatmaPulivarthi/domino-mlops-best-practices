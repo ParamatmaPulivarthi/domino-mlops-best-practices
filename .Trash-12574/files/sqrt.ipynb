{
 "cells": [
  {
   "cell_type": "code",
   "execution_count": 1,
   "id": "f8b94614",
   "metadata": {},
   "outputs": [
    {
     "name": "stdout",
     "output_type": "stream",
     "text": [
      "The square root of 10 is 3.1622776601683795\n"
     ]
    },
    {
     "data": {
      "text/plain": [
       "18"
      ]
     },
     "execution_count": 1,
     "metadata": {},
     "output_type": "execute_result"
    }
   ],
   "source": [
    "from pathlib import Path\n",
    "\n",
    "# Read input\n",
    "# value = Path(\"/workflow/inputs/value\").read_text()\n",
    "value=10\n",
    "\n",
    "# Calculate square root\n",
    "sqrt = int(value) ** 0.5\n",
    "print(f\"The square root of {value} is {sqrt}\")\n",
    "\n",
    "# Write output\n",
    "Path(\"/workflow/outputs/sqrt\").write_text(str(sqrt))"
   ]
  }
 ],
 "metadata": {
  "kernelspec": {
   "display_name": "Python 3 (ipykernel)",
   "language": "python",
   "name": "python3"
  },
  "language_info": {
   "codemirror_mode": {
    "name": "ipython",
    "version": 3
   },
   "file_extension": ".py",
   "mimetype": "text/x-python",
   "name": "python",
   "nbconvert_exporter": "python",
   "pygments_lexer": "ipython3",
   "version": "3.9.18"
  }
 },
 "nbformat": 4,
 "nbformat_minor": 5
}
