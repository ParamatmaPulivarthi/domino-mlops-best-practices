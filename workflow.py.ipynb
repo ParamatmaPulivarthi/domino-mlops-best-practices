{
 "cells": [
  {
   "cell_type": "code",
   "execution_count": 2,
   "id": "d75bf6ea",
   "metadata": {},
   "outputs": [
    {
     "ename": "ModuleNotFoundError",
     "evalue": "No module named 'flytekitplugins.domino'",
     "output_type": "error",
     "traceback": [
      "\u001b[0;31m---------------------------------------------------------------------------\u001b[0m",
      "\u001b[0;31mModuleNotFoundError\u001b[0m                       Traceback (most recent call last)",
      "Cell \u001b[0;32mIn[2], line 2\u001b[0m\n\u001b[1;32m      1\u001b[0m \u001b[38;5;66;03m# from flytekit import workflow\u001b[39;00m\n\u001b[0;32m----> 2\u001b[0m \u001b[38;5;28;01mfrom\u001b[39;00m \u001b[38;5;21;01mflytekitplugins\u001b[39;00m\u001b[38;5;21;01m.\u001b[39;00m\u001b[38;5;21;01mdomino\u001b[39;00m\u001b[38;5;21;01m.\u001b[39;00m\u001b[38;5;21;01mtask\u001b[39;00m \u001b[38;5;28;01mimport\u001b[39;00m DominoJobConfig, DominoJobTask\n\u001b[1;32m      4\u001b[0m \u001b[38;5;129m@workflow\u001b[39m\n\u001b[1;32m      5\u001b[0m \u001b[38;5;28;01mdef\u001b[39;00m \u001b[38;5;21msimple_math_workflow\u001b[39m(a: \u001b[38;5;28mint\u001b[39m, b: \u001b[38;5;28mint\u001b[39m) \u001b[38;5;241m-\u001b[39m\u001b[38;5;241m>\u001b[39m \u001b[38;5;28mfloat\u001b[39m:\n\u001b[1;32m      6\u001b[0m \n\u001b[1;32m      7\u001b[0m     \u001b[38;5;66;03m# Create first task\u001b[39;00m\n\u001b[1;32m      8\u001b[0m     add_task \u001b[38;5;241m=\u001b[39m DominoJobTask(\n\u001b[1;32m      9\u001b[0m         name\u001b[38;5;241m=\u001b[39m\u001b[38;5;124m'\u001b[39m\u001b[38;5;124mAdd numbers\u001b[39m\u001b[38;5;124m'\u001b[39m,\n\u001b[1;32m     10\u001b[0m         domino_job_config\u001b[38;5;241m=\u001b[39mDominoJobConfig(Command\u001b[38;5;241m=\u001b[39m\u001b[38;5;124m\"\u001b[39m\u001b[38;5;124mpython add.py\u001b[39m\u001b[38;5;124m\"\u001b[39m),\n\u001b[0;32m   (...)\u001b[0m\n\u001b[1;32m     13\u001b[0m         use_latest\u001b[38;5;241m=\u001b[39m\u001b[38;5;28;01mTrue\u001b[39;00m\n\u001b[1;32m     14\u001b[0m     )\n",
      "\u001b[0;31mModuleNotFoundError\u001b[0m: No module named 'flytekitplugins.domino'"
     ]
    }
   ],
   "source": [
    "# from flytekit import workflow\n",
    "from flytekitplugins.domino.task import DominoJobConfig, DominoJobTask\n",
    "@workflow\n",
    "def simple_math_workflow(a: int, b: int) -> float:\n",
    "\n",
    "    # Create first task\n",
    "    add_task = DominoJobTask(\n",
    "        name='Add numbers',\n",
    "        domino_job_config=DominoJobConfig(Command=\"python add.py\"),\n",
    "        inputs={'first_value': int, 'second_value': int},\n",
    "        outputs={'sum': int},\n",
    "        use_latest=True\n",
    "    )\n",
    "    sum = add_task(first_value=a, second_value=b)\n",
    "\n",
    "    # Create second task\n",
    "    sqrt_task = DominoJobTask(\n",
    "        name='Square root',\n",
    "        domino_job_config=DominoJobConfig(Command=\"python sqrt.py\"),\n",
    "        inputs={'value': int},\n",
    "        outputs={'sqrt': float},\n",
    "        use_latest=True\n",
    "    )\n",
    "    sqrt = sqrt_task(value=sum)\n",
    "\n",
    "    return sqrt"
   ]
  },
  {
   "cell_type": "code",
   "execution_count": 3,
   "id": "bd6c9cce",
   "metadata": {},
   "outputs": [
    {
     "name": "stdout",
     "output_type": "stream",
     "text": [
      "\u001b[31mERROR: Could not find a version that satisfies the requirement flytekitplugins.domino (from versions: none)\u001b[0m\u001b[31m\r\n",
      "\u001b[0m\u001b[31mERROR: No matching distribution found for flytekitplugins.domino\u001b[0m\u001b[31m\r\n",
      "\u001b[0m"
     ]
    }
   ],
   "source": [
    "!pip install flytekitplugins.domino\n"
   ]
  }
 ],
 "metadata": {
  "kernelspec": {
   "display_name": "Python 3 (ipykernel)",
   "language": "python",
   "name": "python3"
  },
  "language_info": {
   "codemirror_mode": {
    "name": "ipython",
    "version": 3
   },
   "file_extension": ".py",
   "mimetype": "text/x-python",
   "name": "python",
   "nbconvert_exporter": "python",
   "pygments_lexer": "ipython3",
   "version": "3.9.18"
  }
 },
 "nbformat": 4,
 "nbformat_minor": 5
}
